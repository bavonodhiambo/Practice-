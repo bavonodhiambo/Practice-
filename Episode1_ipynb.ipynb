{
  "nbformat": 4,
  "nbformat_minor": 0,
  "metadata": {
    "colab": {
      "name": "Episode1.  ipynb",
      "provenance": [],
      "collapsed_sections": [],
      "include_colab_link": true
    },
    "kernelspec": {
      "name": "python3",
      "display_name": "Python 3"
    },
    "language_info": {
      "name": "python"
    }
  },
  "cells": [
    {
      "cell_type": "markdown",
      "metadata": {
        "id": "view-in-github",
        "colab_type": "text"
      },
      "source": [
        "<a href=\"https://colab.research.google.com/github/bavonodhiambo/Practice-/blob/main/Episode1_ipynb.ipynb\" target=\"_parent\"><img src=\"https://colab.research.google.com/assets/colab-badge.svg\" alt=\"Open In Colab\"/></a>"
      ]
    },
    {
      "cell_type": "markdown",
      "metadata": {
        "id": "-7LKaKnmJ8_2"
      },
      "source": [
        "# Exercise 0\n",
        "\n",
        "Please try out the following exercises, make a copy of this notebook!(File->Save a Copy in Drive)"
      ]
    },
    {
      "cell_type": "markdown",
      "metadata": {
        "id": "OkTIFvZ9Nn6O"
      },
      "source": [
        "## Exercise 0.1\n",
        "Display the number of letters in the string"
      ]
    },
    {
      "cell_type": "code",
      "metadata": {
        "id": "c30P96I2KEwx",
        "colab": {
          "base_uri": "https://localhost:8080/"
        },
        "outputId": "4520eb12-3a6a-4ae6-d190-7acfa5c949ed"
      },
      "source": [
        "my_word = (\"antidisestablishmentarianism:\" )\n",
        "# your code here\n",
        "str = \"antidisestablishmentarianism\"\n",
        "\n",
        " \n",
        "letters= len(str)\n",
        "\n",
        "print(letters)"
      ],
      "execution_count": 3,
      "outputs": [
        {
          "output_type": "stream",
          "text": [
            "28\n"
          ],
          "name": "stdout"
        }
      ]
    },
    {
      "cell_type": "markdown",
      "metadata": {
        "id": "UMf0_v_zNuoC"
      },
      "source": [
        "## Exercise 0.2\n",
        "Concatenate two strings together"
      ]
    },
    {
      "cell_type": "code",
      "metadata": {
        "id": "Q37R8_F6FOq1"
      },
      "source": [
        ""
      ],
      "execution_count": null,
      "outputs": []
    },
    {
      "cell_type": "code",
      "metadata": {
        "id": "vYtPxpOUKb-f",
        "colab": {
          "base_uri": "https://localhost:8080/"
        },
        "outputId": "26d696b5-6a7b-4c86-f690-b03873d47d2b"
      },
      "source": [
        "string_left = \"bat\"\n",
        "string_right = \"man\"\n",
        "full_string=string_left+string_right\n",
        "\n",
        "print(full_string)"
      ],
      "execution_count": null,
      "outputs": [
        {
          "output_type": "stream",
          "text": [
            "batman\n"
          ],
          "name": "stdout"
        }
      ]
    },
    {
      "cell_type": "markdown",
      "metadata": {
        "id": "TK7uJp4BN0hg"
      },
      "source": [
        "## Exercise 0.3\n",
        "Display two strings together, with a space in between"
      ]
    },
    {
      "cell_type": "code",
      "metadata": {
        "id": "fXv3MJ11O5Ts"
      },
      "source": [
        ""
      ],
      "execution_count": null,
      "outputs": []
    },
    {
      "cell_type": "code",
      "metadata": {
        "id": "IpW2UqoaKiEK",
        "colab": {
          "base_uri": "https://localhost:8080/"
        },
        "outputId": "038b0db9-2645-47a0-e61a-2882a46df225"
      },
      "source": [
        "string_one = \"heebie \"\n",
        "string_two = \"jeebies\"\n",
        "# your code here\n",
        "full_string=string_one +  string_two\n",
        " \n",
        "print(full_string)"
      ],
      "execution_count": null,
      "outputs": [
        {
          "output_type": "stream",
          "text": [
            "heebie jeebies\n"
          ],
          "name": "stdout"
        }
      ]
    },
    {
      "cell_type": "markdown",
      "metadata": {
        "id": "5fHWEcpzOBii"
      },
      "source": [
        "## Exercise 0.4\n",
        "Use subscripting to display part of a string, dispay 'anti' from the string antidisestablishmentarianism"
      ]
    },
    {
      "cell_type": "code",
      "metadata": {
        "id": "oz0ramLzN_NE",
        "colab": {
          "base_uri": "https://localhost:8080/"
        },
        "outputId": "c5eabd6e-a369-49de-ecc0-a36348cb2478"
      },
      "source": [
        "# your code here\n",
        "word=\"antidisestablishmentarianism\"\n",
        "print(word[:4])"
      ],
      "execution_count": null,
      "outputs": [
        {
          "output_type": "stream",
          "text": [
            "anti\n"
          ],
          "name": "stdout"
        }
      ]
    },
    {
      "cell_type": "markdown",
      "metadata": {
        "id": "UARpTmjAOJYX"
      },
      "source": [
        "## Exercise 0.5, \n",
        "Remove any whitespaces before and/or after the strings"
      ]
    },
    {
      "cell_type": "code",
      "metadata": {
        "id": "eMayhrRGKujf",
        "colab": {
          "base_uri": "https://localhost:8080/"
        },
        "outputId": "e48ddf25-5045-4304-cfaf-140f28b5fb2d"
      },
      "source": [
        "string1 = \"    Filet Mignon\"\n",
        "string2 = \"Brisket    \"\n",
        "string3 = \"  Cheeseburger   \"\n",
        "# your code here\n",
        "print (string1.lstrip())\n",
        "print(string2.rstrip())\n",
        "print(string3.strip())"
      ],
      "execution_count": null,
      "outputs": [
        {
          "output_type": "stream",
          "text": [
            "Filet Mignon\n",
            "Brisket\n",
            "Cheeseburger\n"
          ],
          "name": "stdout"
        }
      ]
    },
    {
      "cell_type": "markdown",
      "metadata": {
        "id": "6xhqQM7fONTJ"
      },
      "source": [
        "## Exercise 0.6\n",
        "Check if the string starts with letter 'be'"
      ]
    },
    {
      "cell_type": "code",
      "metadata": {
        "id": "KVyfnZWELPtr",
        "colab": {
          "base_uri": "https://localhost:8080/"
        },
        "outputId": "6629ca8d-3e29-4e55-febf-8303eac89e3b"
      },
      "source": [
        "string1 = \"Becomes\"\n",
        "string2 = \"becomes\"\n",
        "string3 = \"BEAR\"\n",
        "string4 = \"  bEautiful\"\n",
        "# your code here\n",
        "\n",
        "\n",
        "result = string1.startswith('be')\n",
        "# returns True\n",
        "print(result)\n",
        "\n",
        "result = string2.startswith('be')\n",
        "# returns True\n",
        "print(result)\n",
        "\n",
        "result = string3.startswith('be')\n",
        "# returns True\n",
        "print(result)\n",
        "\n",
        "result = string4.startswith('be')\n",
        "# returns True\n",
        "print(result)"
      ],
      "execution_count": null,
      "outputs": [
        {
          "output_type": "stream",
          "text": [
            "False\n",
            "True\n",
            "False\n",
            "False\n"
          ],
          "name": "stdout"
        }
      ]
    },
    {
      "cell_type": "markdown",
      "metadata": {
        "id": "n6fjSPA3OQwQ"
      },
      "source": [
        "## Exercise 0.6, D\n",
        "Define a variable that Stores an integer as a string"
      ]
    },
    {
      "cell_type": "code",
      "metadata": {
        "id": "L6wcQUeSOTtP",
        "colab": {
          "base_uri": "https://localhost:8080/"
        },
        "outputId": "061ccdbc-c184-427e-cae9-650c4755b895"
      },
      "source": [
        "# your code here\n",
        "\n",
        "my_age= 78\n",
        "\n",
        "my_age=str(my_age)\n",
        "print( my_age)\n"
      ],
      "execution_count": null,
      "outputs": [
        {
          "output_type": "stream",
          "text": [
            "78\n"
          ],
          "name": "stdout"
        }
      ]
    },
    {
      "cell_type": "markdown",
      "metadata": {
        "id": "G09SeRk2OXgS"
      },
      "source": [
        "## Exercise 0.7\n",
        "Display the variables my_string and my_int together"
      ]
    },
    {
      "cell_type": "code",
      "metadata": {
        "id": "oTslOjcKMKLs",
        "colab": {
          "base_uri": "https://localhost:8080/"
        },
        "outputId": "88f17531-6da0-4f13-b601-fcc758930ca3"
      },
      "source": [
        "my_string = \"mp\"\n",
        "my_int = 3\n",
        "# your code here\n",
        "\n",
        "music_type=my_string+str(my_int)\n",
        "print(music_type)"
      ],
      "execution_count": null,
      "outputs": [
        {
          "output_type": "stream",
          "text": [
            "mp3\n"
          ],
          "name": "stdout"
        }
      ]
    },
    {
      "cell_type": "markdown",
      "metadata": {
        "id": "yFWY5eU9Ob1Z"
      },
      "source": [
        "## Exercise 0.9\n",
        "Given the following Variables, Concatenate a the variable weight and animal in one print statement"
      ]
    },
    {
      "cell_type": "code",
      "metadata": {
        "id": "NWtcWuRdMSlj",
        "colab": {
          "base_uri": "https://localhost:8080/"
        },
        "outputId": "429e8b46-7d3c-4446-81b2-4b97d64c094f"
      },
      "source": [
        "weight = 0.2\n",
        "animal = \"newt\"\n",
        "# your code here\n",
        "animal_details= str(weight)+animal\n",
        "print(animal_details)"
      ],
      "execution_count": null,
      "outputs": [
        {
          "output_type": "stream",
          "text": [
            "0.2newt\n"
          ],
          "name": "stdout"
        }
      ]
    },
    {
      "cell_type": "markdown",
      "metadata": {
        "id": "OhreoTHAOoh3"
      },
      "source": [
        "## Exercise 0.9\n",
        "Use format() to print a variable weight and a animal inside of another string"
      ]
    },
    {
      "cell_type": "code",
      "metadata": {
        "id": "cOeV9VbyMt2q",
        "colab": {
          "base_uri": "https://localhost:8080/"
        },
        "outputId": "784570f9-6ace-4d58-eadb-1df6439064e1"
      },
      "source": [
        "weight = 0.2\n",
        "animal = \"newt\"\n",
        "# your code here\n",
        " \n",
        "animal_details= str(weight)+animal\n",
        "print (\"(\"+animal_details+\")\")"
      ],
      "execution_count": null,
      "outputs": [
        {
          "output_type": "stream",
          "text": [
            "(0.2newt)\n"
          ],
          "name": "stdout"
        }
      ]
    },
    {
      "cell_type": "markdown",
      "metadata": {
        "id": "MPPtiEP-OsQH"
      },
      "source": [
        "## Exercise 0.10\n",
        "Use formatted string literal (f-string) to reference objects weight and animal inside print statement"
      ]
    },
    {
      "cell_type": "code",
      "metadata": {
        "id": "e1ffmOP9NlfF",
        "colab": {
          "base_uri": "https://localhost:8080/"
        },
        "outputId": "1d9ea201-7bab-4131-9cab-f9075b66e491"
      },
      "source": [
        "# your code here\n",
        "weight = 0.2\n",
        "animal = \"newt\"\n",
        "print(f\" Good afternoon Tourist, This animal is called {animal} and its weight is {weight} kg.\")\n"
      ],
      "execution_count": null,
      "outputs": [
        {
          "output_type": "stream",
          "text": [
            " Good afternoon Tourist, This animal is called newt and its weight is 0.2 kg.\n"
          ],
          "name": "stdout"
        }
      ]
    },
    {
      "cell_type": "code",
      "metadata": {
        "id": "L45lHPquPfgw"
      },
      "source": [
        ""
      ],
      "execution_count": null,
      "outputs": []
    }
  ]
}