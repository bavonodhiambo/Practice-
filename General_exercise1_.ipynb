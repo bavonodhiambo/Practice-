{
  "nbformat": 4,
  "nbformat_minor": 0,
  "metadata": {
    "colab": {
      "name": "General exercise1 .ipynb",
      "provenance": [],
      "collapsed_sections": [],
      "authorship_tag": "ABX9TyNyeC+jMl2mQh2WAAmW67sX",
      "include_colab_link": true
    },
    "kernelspec": {
      "display_name": "Python 3",
      "name": "python3"
    },
    "language_info": {
      "name": "python"
    }
  },
  "cells": [
    {
      "cell_type": "markdown",
      "metadata": {
        "id": "view-in-github",
        "colab_type": "text"
      },
      "source": [
        "<a href=\"https://colab.research.google.com/github/bavonodhiambo/Practice-/blob/main/General_exercise1_.ipynb\" target=\"_parent\"><img src=\"https://colab.research.google.com/assets/colab-badge.svg\" alt=\"Open In Colab\"/></a>"
      ]
    },
    {
      "cell_type": "code",
      "metadata": {
        "id": "3rdGwyA9b3rq"
      },
      "source": [
        ""
      ],
      "execution_count": null,
      "outputs": []
    },
    {
      "cell_type": "markdown",
      "metadata": {
        "id": "QDkXwLTjZG1u"
      },
      "source": [
        "Exercis *1*: Given a range of the first 10 numbers, Iterate from the start number to the end number, and In each iteration add 3 to each number "
      ]
    },
    {
      "cell_type": "code",
      "metadata": {
        "colab": {
          "base_uri": "https://localhost:8080/"
        },
        "id": "7myK_ww4K4oK",
        "outputId": "d7d1f076-74f6-426a-c816-b87cf1e91eaf"
      },
      "source": [
        "\n",
        "\n",
        "\n",
        "my_num= [1,2,3,4,5,6,7,8,9,10]\n",
        "\n",
        "\n",
        "\n",
        "my_square= [my_num +3 for my_num  in range(1,11) ]\n",
        "\n",
        "\n",
        "print(my_square)"
      ],
      "execution_count": null,
      "outputs": [
        {
          "output_type": "stream",
          "text": [
            "[4, 5, 6, 7, 8, 9, 10, 11, 12, 13]\n"
          ],
          "name": "stdout"
        }
      ]
    },
    {
      "cell_type": "markdown",
      "metadata": {
        "id": "JwuvzdQLY05G"
      },
      "source": [
        "Exercise 2 : Removing v from the string BAVON "
      ]
    },
    {
      "cell_type": "code",
      "metadata": {
        "colab": {
          "base_uri": "https://localhost:8080/"
        },
        "id": "aZ-ASBENY1mD",
        "outputId": "80a39357-bc3a-4f05-caa6-6c13ddc69f47"
      },
      "source": [
        "name= \"BAVON\"\n",
        "\n",
        "Required= (name[:2]) + (name[3:]) \n",
        "\n",
        "print(Required)"
      ],
      "execution_count": null,
      "outputs": [
        {
          "output_type": "stream",
          "text": [
            "BAON\n"
          ],
          "name": "stdout"
        }
      ]
    },
    {
      "cell_type": "code",
      "metadata": {
        "id": "kFLRYZZCcPGm"
      },
      "source": [
        ""
      ],
      "execution_count": null,
      "outputs": []
    },
    {
      "cell_type": "markdown",
      "metadata": {
        "id": "4nUji7EGcP5Y"
      },
      "source": [
        "Exercise 3 : Python for loging in a user into a system  "
      ]
    },
    {
      "cell_type": "code",
      "metadata": {
        "colab": {
          "base_uri": "https://localhost:8080/"
        },
        "id": "k_GOMkHMcT4d",
        "outputId": "919fed86-497b-49bd-df53-4a41b44616fe"
      },
      "source": [
        "name= input(\"Enter your name\")\n",
        "\n",
        "password= input(\"Enter your pasword\")\n",
        "\n",
        "\n",
        "if name== \"BAVON\"and password== \"okeyo\":\n",
        "    print (\"Hello\", name)   \n",
        "\n",
        "elif name!= \"BAVON\":\n",
        "    print(\"Dear account holder, check your name and try again\") \n",
        "\n",
        "elif password !=\"okeyo\":   \n",
        "     print(\"Please Enter the correct password\", name)     \n",
        "\n",
        "    \n"
      ],
      "execution_count": null,
      "outputs": [
        {
          "output_type": "stream",
          "text": [
            "Enter your nameBAVON\n",
            "Enter your paswordOKEYOP\n",
            "Please Enter the correct password BAVON\n"
          ],
          "name": "stdout"
        }
      ]
    },
    {
      "cell_type": "code",
      "metadata": {
        "id": "mcwgJ58TIO6O"
      },
      "source": [
        ""
      ],
      "execution_count": null,
      "outputs": []
    },
    {
      "cell_type": "markdown",
      "metadata": {
        "id": "CrBxsBSkIQH0"
      },
      "source": [
        "Excerices 2.0. Write a code for checking results of students' results . "
      ]
    },
    {
      "cell_type": "code",
      "metadata": {
        "colab": {
          "base_uri": "https://localhost:8080/"
        },
        "id": "HFl6HmM5rpC6",
        "outputId": "c1fc25d9-86b3-45bd-ce94-71cbb3ce82b1"
      },
      "source": [
        "#logging in to university portal\n",
        "\n",
        "password= input(\"Enter your password\")\n",
        " \n",
        "if password==\"bavon\":\n",
        "   print(\"Welcome to your portal, BAVON\" ) \n",
        "\n",
        "\n",
        "elif password==\"karis\":\n",
        "   print(\"Welcome to your portal , KARIUKI\")\n",
        "\n",
        "elif password== \"otieno3\":\n",
        "\n",
        "     print (\"Welcome to your portal, OTIENO\")\n",
        "\n",
        "\n",
        "elif  password==\"timo\":\n",
        "\n",
        "     print (\"Welcome to your portal, TIMOTHI\")\n",
        "\n",
        "elif  password== \"Harri\":\n",
        "\n",
        "     print (\"Welcome to your portal, HARRISON\")\n",
        "\n",
        "\n",
        "elif  password==\"kaa\":\n",
        "\n",
        "     print (\"Welcome to your portal, KARIUKI\")\n",
        "\n",
        "else: \n",
        "\n",
        "    print(\"Wrong password\")\n",
        "\n",
        "index= input(\"Kindly enter your index number\")\n",
        "name1= \"Name: BAVON ODHIAMBO: KISWAHILI=10, ENGLISH=30, HISTORY= 90, PHYSICS=22,MATHS=22, BUSINESS STUDIES= 89, CHEMISTRY=44, GEOGRAPHY=90, CRE=100 : MEAN GRADE A, AGR 77   \"\n",
        "name2=\"Name: KARIUKI j. MWANGI: KISWAHILI=70, ENGLISH=30, HISTORY= 88, PHYSICS=82,MATHS=100, BUSINESS STUDIES= 92, CHEMISTRY=94, GEOGRAPHY=90 : MEAN GRADE A, AGR 79\"\n",
        "\n",
        "name3=\"Name: OTIENO JOSEPH.O: , KISWAHILI=90, ENGLISH=80, HISTORY= 98, PHYSICS=98,MATHS=83, BUSINESS STUDIES=91 , CHEMISTRY=74, GEOGRAPHY=98, CRE=80, BIOLOGY= 90 : MEAN GRADE A, AGR 81\"  \n",
        "\n",
        "\n",
        "name4= \"Name: TIMOTHI. KIPRUI, KISWAHILI=100, ENGLISH=39, HISTORY= 91, PHYSICS=92,MATHS=92, CHEMISTRY=44, GEOGRAPHY=89, CRE=90 : MEAN GRADE A, AGR 70\"\n",
        "\n",
        "name5 =\"Name: EMEKA J. RHUDHA, KISWAHILI=91, ENGLISH=83, HISTORY= 87, PHYSICS=89,MATHS=72, BUSINESS STUDIES= 91, CHEMISTRY=78, GEOGRAPHY=29, CRE=87 : MEAN GRADE A, AGR 71\" \n",
        "\n",
        "name6 =\"Name: HARISSON . P. OKITHE  KISWAHILI=100, ENGLISH=91, HISTORY= 99, PHYSICS=99,MATHS=40, BUSINESS STUDIES= 33, CHEMISTRY=88, GEOGRAPHY=90, CRE=100 : MEAN GRADE A, AGR 83\"\n",
        "\n",
        "name7= \"Name: KARIUKI ODHIAMBO, KISWAHILI=19, ENGLISH=88, HISTORY=89, PHYSICS=22,MATHS=72, BUSINESS STUDIES= 88, CHEMISTRY=100, GEOGRAPHY=90: MEAN GRADE A, AGR 79 \"\n",
        "if index==\"3023001\":\n",
        "   print(name1) \n",
        "elif index ==\"3023002\":  \n",
        "   print(name2)\n",
        "\n",
        "elif index ==\"3023003\":   \n",
        "   print(name3)\n",
        "\n",
        "elif index ==\"3023004\":\n",
        "\n",
        "    print(name4)\n",
        "\n",
        "elif index ==\"3023005\":   \n",
        "    print(name5)\n",
        "\n",
        "elif index ==\"3023006\": \n",
        "\n",
        "     print(name6)\n",
        "\n",
        "\n",
        "elif index ==\"3023007\":\n",
        "\n",
        "     print(name7) \n",
        "else:\n",
        "     print(\"Invalid index number\", password + \"  try again\")       \n",
        "\n",
        "\n",
        "\n",
        "\n"
      ],
      "execution_count": null,
      "outputs": [
        {
          "output_type": "stream",
          "text": [
            "Enter your passwordbavon\n",
            "Welcome to your portal, BAVON\n",
            "Kindly enter your index number23142\n",
            "Invalid index number bavontry again\n"
          ],
          "name": "stdout"
        }
      ]
    },
    {
      "cell_type": "code",
      "metadata": {
        "id": "jD8JppYooTFS"
      },
      "source": [
        ""
      ],
      "execution_count": null,
      "outputs": []
    },
    {
      "cell_type": "markdown",
      "metadata": {
        "id": "QwuKasz5SkWK"
      },
      "source": [
        "Python to calculate simple intrest  "
      ]
    },
    {
      "cell_type": "code",
      "metadata": {
        "colab": {
          "background_save": true,
          "base_uri": "https://localhost:8080/"
        },
        "id": "1_ZbJKCQIdiV",
        "outputId": "910e4fda-e925-45db-a514-c10dc7d7ed0e"
      },
      "source": [
        "principle= input (\"Enter principle\") \n",
        "\n",
        "rate = input (\"enter rate, eg,, 0.03 \")\n",
        "\n",
        "time= input (\"Enter the time in years\")\n",
        "\n",
        "simple_intrest = int(principle)* float(rate)*int(time)\n",
        "\n",
        "print(\"The simple intrest in this case is\", simple_intrest)\n",
        "\n",
        "total_amount =float(simple_intrest)+ int(principle)  \n",
        "\n",
        "print(\"The total value to be paid is\", total_amount)"
      ],
      "execution_count": null,
      "outputs": [
        {
          "output_type": "stream",
          "text": [
            "The simple intrest in this case is 76.32000000000001\n",
            "The total value to be paid is 2196.32\n"
          ],
          "name": "stdout"
        }
      ]
    },
    {
      "cell_type": "markdown",
      "metadata": {
        "id": "aen3QGJkVlxA"
      },
      "source": [
        "exercise3.2: Formular to calculate power produced in single phase AC"
      ]
    },
    {
      "cell_type": "code",
      "metadata": {
        "colab": {
          "base_uri": "https://localhost:8080/"
        },
        "id": "IVM5SNDHVs5B",
        "outputId": "ab47973f-3a7c-4197-a16d-7b9a64273ca6"
      },
      "source": [
        "\n",
        "import math\n",
        "\n",
        "phase_voltage=input(\"Enter phase voltage\")\n",
        "\n",
        "phase_current= input(\"Enter phase current\")\n",
        "\n",
        "power= 3*int(phase_voltage)*int(phase_current)\n",
        "\n",
        "\n",
        "print(power,\"A\")"
      ],
      "execution_count": null,
      "outputs": [
        {
          "output_type": "stream",
          "text": [
            "Enter phase voltage22\n"
          ],
          "name": "stdout"
        }
      ]
    },
    {
      "cell_type": "code",
      "metadata": {
        "id": "ve-AlmXIavmV",
        "colab": {
          "base_uri": "https://localhost:8080/",
          "height": 132
        },
        "outputId": "067d4363-1051-41f4-8c7b-d416d6972c27"
      },
      "source": [
        "my_num= 34\n",
        "his_num = 44\n",
        "\n",
        "mul= my_num*his_num\n",
        "\n",
        "print(mul)\n",
        "\n",
        "\n",
        "my_list = [ \"Bavon\" , \n",
        "           \n",
        "           \"Frank\" ,\n",
        "\n",
        "           \"Otieno\" ,  \n",
        "\n",
        "           \"Dichol\",\n",
        "\n",
        "            \"Opul\",\n",
        "           \n",
        "             \"Nyamache \" ,\n",
        "\n",
        "               [23,78,90]\n",
        "\n",
        "]\n",
        "\n",
        "print(my_list[:10] )\n",
        "\n",
        "myy_list = del [2]\n",
        "\n",
        "print(myy_list)"
      ],
      "execution_count": null,
      "outputs": [
        {
          "output_type": "error",
          "ename": "SyntaxError",
          "evalue": "ignored",
          "traceback": [
            "\u001b[0;36m  File \u001b[0;32m\"<ipython-input-19-f3ac9f7b1750>\"\u001b[0;36m, line \u001b[0;32m27\u001b[0m\n\u001b[0;31m    myy_list = del [2]\u001b[0m\n\u001b[0m                 ^\u001b[0m\n\u001b[0;31mSyntaxError\u001b[0m\u001b[0;31m:\u001b[0m invalid syntax\n"
          ]
        }
      ]
    },
    {
      "cell_type": "code",
      "metadata": {
        "id": "UTVIFMT7UaP4"
      },
      "source": [
        ""
      ],
      "execution_count": null,
      "outputs": []
    }
  ]
}